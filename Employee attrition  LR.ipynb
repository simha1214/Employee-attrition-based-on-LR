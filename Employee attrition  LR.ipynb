{
 "cells": [
  {
   "cell_type": "code",
   "execution_count": 2,
   "metadata": {},
   "outputs": [],
   "source": [
    "%matplotlib inline\n",
    "import warnings\n",
    "warnings.filterwarnings(\"ignore\")\n",
    "\n",
    "\n",
    "import sqlite3\n",
    "import pandas as pd\n",
    "import numpy as np\n",
    "import nltk\n",
    "import string\n",
    "import matplotlib.pyplot as plt\n",
    "import seaborn as sns\n",
    "from sklearn.feature_extraction.text import TfidfTransformer\n",
    "from sklearn.feature_extraction.text import TfidfVectorizer\n",
    "\n",
    "from sklearn.feature_extraction.text import CountVectorizer\n",
    "from sklearn.metrics import confusion_matrix\n",
    "from sklearn import metrics\n",
    "from sklearn.metrics import roc_curve, auc\n",
    "from nltk.stem.porter import PorterStemmer\n",
    "\n",
    "import re\n",
    "# Tutorial about Python regular expressions: https://pymotw.com/2/re/\n",
    "import string\n",
    "from nltk.corpus import stopwords\n",
    "from nltk.stem import PorterStemmer\n",
    "from nltk.stem.wordnet import WordNetLemmatizer\n",
    "\n",
    "from gensim.models import Word2Vec\n",
    "from gensim.models import KeyedVectors\n",
    "import pickle\n",
    "\n",
    "from tqdm import tqdm\n",
    "import os"
   ]
  },
  {
   "cell_type": "code",
   "execution_count": 4,
   "metadata": {},
   "outputs": [],
   "source": [
    "in_data=pd.read_csv('HR-Employee-Attrition-data.csv')"
   ]
  },
  {
   "cell_type": "code",
   "execution_count": 6,
   "metadata": {},
   "outputs": [
    {
     "data": {
      "text/html": [
       "<div>\n",
       "<style scoped>\n",
       "    .dataframe tbody tr th:only-of-type {\n",
       "        vertical-align: middle;\n",
       "    }\n",
       "\n",
       "    .dataframe tbody tr th {\n",
       "        vertical-align: top;\n",
       "    }\n",
       "\n",
       "    .dataframe thead th {\n",
       "        text-align: right;\n",
       "    }\n",
       "</style>\n",
       "<table border=\"1\" class=\"dataframe\">\n",
       "  <thead>\n",
       "    <tr style=\"text-align: right;\">\n",
       "      <th></th>\n",
       "      <th>Employee Count</th>\n",
       "      <th>Employee ID</th>\n",
       "      <th>Department</th>\n",
       "      <th>Job Role</th>\n",
       "      <th>Attrition (Yes/No)</th>\n",
       "      <th>Gender</th>\n",
       "      <th>Age</th>\n",
       "      <th>Over 18</th>\n",
       "      <th>Marital Status</th>\n",
       "      <th>Education</th>\n",
       "      <th>...</th>\n",
       "      <th>Total Working Years</th>\n",
       "      <th>Years At Company</th>\n",
       "      <th>Years In Current Role</th>\n",
       "      <th>Years Since Last Promotion</th>\n",
       "      <th>Years With Curr Manager</th>\n",
       "      <th>Environment Satisfaction</th>\n",
       "      <th>Training Times Last Year</th>\n",
       "      <th>Work Life Balance</th>\n",
       "      <th>Performance Rating</th>\n",
       "      <th>Relationship Satisfaction</th>\n",
       "    </tr>\n",
       "  </thead>\n",
       "  <tbody>\n",
       "    <tr>\n",
       "      <th>0</th>\n",
       "      <td>1</td>\n",
       "      <td>1</td>\n",
       "      <td>Sales</td>\n",
       "      <td>Sales Executive</td>\n",
       "      <td>Yes</td>\n",
       "      <td>Female</td>\n",
       "      <td>41</td>\n",
       "      <td>Y</td>\n",
       "      <td>Single</td>\n",
       "      <td>College</td>\n",
       "      <td>...</td>\n",
       "      <td>8</td>\n",
       "      <td>6</td>\n",
       "      <td>4</td>\n",
       "      <td>0</td>\n",
       "      <td>5</td>\n",
       "      <td>Medium</td>\n",
       "      <td>0</td>\n",
       "      <td>Bad</td>\n",
       "      <td>Excellent</td>\n",
       "      <td>Low</td>\n",
       "    </tr>\n",
       "    <tr>\n",
       "      <th>1</th>\n",
       "      <td>1</td>\n",
       "      <td>2</td>\n",
       "      <td>Research &amp; Development</td>\n",
       "      <td>Research Scientist</td>\n",
       "      <td>No</td>\n",
       "      <td>Male</td>\n",
       "      <td>49</td>\n",
       "      <td>Y</td>\n",
       "      <td>Married</td>\n",
       "      <td>Below College</td>\n",
       "      <td>...</td>\n",
       "      <td>10</td>\n",
       "      <td>10</td>\n",
       "      <td>7</td>\n",
       "      <td>1</td>\n",
       "      <td>7</td>\n",
       "      <td>High</td>\n",
       "      <td>3</td>\n",
       "      <td>Better</td>\n",
       "      <td>Outstanding</td>\n",
       "      <td>Very High</td>\n",
       "    </tr>\n",
       "    <tr>\n",
       "      <th>2</th>\n",
       "      <td>1</td>\n",
       "      <td>4</td>\n",
       "      <td>Research &amp; Development</td>\n",
       "      <td>Laboratory Technician</td>\n",
       "      <td>Yes</td>\n",
       "      <td>Male</td>\n",
       "      <td>37</td>\n",
       "      <td>Y</td>\n",
       "      <td>Single</td>\n",
       "      <td>College</td>\n",
       "      <td>...</td>\n",
       "      <td>7</td>\n",
       "      <td>0</td>\n",
       "      <td>0</td>\n",
       "      <td>0</td>\n",
       "      <td>0</td>\n",
       "      <td>Very High</td>\n",
       "      <td>3</td>\n",
       "      <td>Better</td>\n",
       "      <td>Excellent</td>\n",
       "      <td>Medium</td>\n",
       "    </tr>\n",
       "    <tr>\n",
       "      <th>3</th>\n",
       "      <td>1</td>\n",
       "      <td>5</td>\n",
       "      <td>Research &amp; Development</td>\n",
       "      <td>Research Scientist</td>\n",
       "      <td>No</td>\n",
       "      <td>Female</td>\n",
       "      <td>33</td>\n",
       "      <td>Y</td>\n",
       "      <td>Married</td>\n",
       "      <td>Master</td>\n",
       "      <td>...</td>\n",
       "      <td>8</td>\n",
       "      <td>8</td>\n",
       "      <td>7</td>\n",
       "      <td>3</td>\n",
       "      <td>0</td>\n",
       "      <td>Very High</td>\n",
       "      <td>3</td>\n",
       "      <td>Better</td>\n",
       "      <td>Excellent</td>\n",
       "      <td>High</td>\n",
       "    </tr>\n",
       "    <tr>\n",
       "      <th>4</th>\n",
       "      <td>1</td>\n",
       "      <td>7</td>\n",
       "      <td>Research &amp; Development</td>\n",
       "      <td>Laboratory Technician</td>\n",
       "      <td>No</td>\n",
       "      <td>Male</td>\n",
       "      <td>27</td>\n",
       "      <td>Y</td>\n",
       "      <td>Married</td>\n",
       "      <td>Below College</td>\n",
       "      <td>...</td>\n",
       "      <td>6</td>\n",
       "      <td>2</td>\n",
       "      <td>2</td>\n",
       "      <td>2</td>\n",
       "      <td>2</td>\n",
       "      <td>Low</td>\n",
       "      <td>3</td>\n",
       "      <td>Better</td>\n",
       "      <td>Excellent</td>\n",
       "      <td>Very High</td>\n",
       "    </tr>\n",
       "    <tr>\n",
       "      <th>5</th>\n",
       "      <td>1</td>\n",
       "      <td>8</td>\n",
       "      <td>Research &amp; Development</td>\n",
       "      <td>Laboratory Technician</td>\n",
       "      <td>No</td>\n",
       "      <td>Male</td>\n",
       "      <td>32</td>\n",
       "      <td>Y</td>\n",
       "      <td>Single</td>\n",
       "      <td>College</td>\n",
       "      <td>...</td>\n",
       "      <td>8</td>\n",
       "      <td>7</td>\n",
       "      <td>7</td>\n",
       "      <td>3</td>\n",
       "      <td>6</td>\n",
       "      <td>Very High</td>\n",
       "      <td>2</td>\n",
       "      <td>Good</td>\n",
       "      <td>Excellent</td>\n",
       "      <td>High</td>\n",
       "    </tr>\n",
       "    <tr>\n",
       "      <th>6</th>\n",
       "      <td>1</td>\n",
       "      <td>10</td>\n",
       "      <td>Research &amp; Development</td>\n",
       "      <td>Laboratory Technician</td>\n",
       "      <td>No</td>\n",
       "      <td>Female</td>\n",
       "      <td>59</td>\n",
       "      <td>Y</td>\n",
       "      <td>Married</td>\n",
       "      <td>Bachelor</td>\n",
       "      <td>...</td>\n",
       "      <td>12</td>\n",
       "      <td>1</td>\n",
       "      <td>0</td>\n",
       "      <td>0</td>\n",
       "      <td>0</td>\n",
       "      <td>High</td>\n",
       "      <td>3</td>\n",
       "      <td>Good</td>\n",
       "      <td>Outstanding</td>\n",
       "      <td>Low</td>\n",
       "    </tr>\n",
       "    <tr>\n",
       "      <th>7</th>\n",
       "      <td>1</td>\n",
       "      <td>11</td>\n",
       "      <td>Research &amp; Development</td>\n",
       "      <td>Laboratory Technician</td>\n",
       "      <td>No</td>\n",
       "      <td>Male</td>\n",
       "      <td>30</td>\n",
       "      <td>Y</td>\n",
       "      <td>Divorced</td>\n",
       "      <td>Below College</td>\n",
       "      <td>...</td>\n",
       "      <td>1</td>\n",
       "      <td>1</td>\n",
       "      <td>0</td>\n",
       "      <td>0</td>\n",
       "      <td>0</td>\n",
       "      <td>Very High</td>\n",
       "      <td>2</td>\n",
       "      <td>Better</td>\n",
       "      <td>Outstanding</td>\n",
       "      <td>Medium</td>\n",
       "    </tr>\n",
       "    <tr>\n",
       "      <th>8</th>\n",
       "      <td>1</td>\n",
       "      <td>12</td>\n",
       "      <td>Research &amp; Development</td>\n",
       "      <td>Manufacturing Director</td>\n",
       "      <td>No</td>\n",
       "      <td>Male</td>\n",
       "      <td>38</td>\n",
       "      <td>Y</td>\n",
       "      <td>Single</td>\n",
       "      <td>Bachelor</td>\n",
       "      <td>...</td>\n",
       "      <td>10</td>\n",
       "      <td>9</td>\n",
       "      <td>7</td>\n",
       "      <td>1</td>\n",
       "      <td>8</td>\n",
       "      <td>Very High</td>\n",
       "      <td>2</td>\n",
       "      <td>Better</td>\n",
       "      <td>Outstanding</td>\n",
       "      <td>Medium</td>\n",
       "    </tr>\n",
       "    <tr>\n",
       "      <th>9</th>\n",
       "      <td>1</td>\n",
       "      <td>13</td>\n",
       "      <td>Research &amp; Development</td>\n",
       "      <td>Healthcare Representative</td>\n",
       "      <td>No</td>\n",
       "      <td>Male</td>\n",
       "      <td>36</td>\n",
       "      <td>Y</td>\n",
       "      <td>Married</td>\n",
       "      <td>Bachelor</td>\n",
       "      <td>...</td>\n",
       "      <td>17</td>\n",
       "      <td>7</td>\n",
       "      <td>7</td>\n",
       "      <td>7</td>\n",
       "      <td>7</td>\n",
       "      <td>High</td>\n",
       "      <td>3</td>\n",
       "      <td>Good</td>\n",
       "      <td>Excellent</td>\n",
       "      <td>Medium</td>\n",
       "    </tr>\n",
       "  </tbody>\n",
       "</table>\n",
       "<p>10 rows × 35 columns</p>\n",
       "</div>"
      ],
      "text/plain": [
       "   Employee Count  Employee ID              Department  \\\n",
       "0               1            1                   Sales   \n",
       "1               1            2  Research & Development   \n",
       "2               1            4  Research & Development   \n",
       "3               1            5  Research & Development   \n",
       "4               1            7  Research & Development   \n",
       "5               1            8  Research & Development   \n",
       "6               1           10  Research & Development   \n",
       "7               1           11  Research & Development   \n",
       "8               1           12  Research & Development   \n",
       "9               1           13  Research & Development   \n",
       "\n",
       "                    Job Role Attrition (Yes/No)  Gender  Age Over 18  \\\n",
       "0            Sales Executive                Yes  Female   41       Y   \n",
       "1         Research Scientist                 No    Male   49       Y   \n",
       "2      Laboratory Technician                Yes    Male   37       Y   \n",
       "3         Research Scientist                 No  Female   33       Y   \n",
       "4      Laboratory Technician                 No    Male   27       Y   \n",
       "5      Laboratory Technician                 No    Male   32       Y   \n",
       "6      Laboratory Technician                 No  Female   59       Y   \n",
       "7      Laboratory Technician                 No    Male   30       Y   \n",
       "8     Manufacturing Director                 No    Male   38       Y   \n",
       "9  Healthcare Representative                 No    Male   36       Y   \n",
       "\n",
       "  Marital Status      Education            ...              \\\n",
       "0         Single        College            ...               \n",
       "1        Married  Below College            ...               \n",
       "2         Single        College            ...               \n",
       "3        Married         Master            ...               \n",
       "4        Married  Below College            ...               \n",
       "5         Single        College            ...               \n",
       "6        Married       Bachelor            ...               \n",
       "7       Divorced  Below College            ...               \n",
       "8         Single       Bachelor            ...               \n",
       "9        Married       Bachelor            ...               \n",
       "\n",
       "  Total Working Years Years At Company  Years In Current Role  \\\n",
       "0                   8                6                      4   \n",
       "1                  10               10                      7   \n",
       "2                   7                0                      0   \n",
       "3                   8                8                      7   \n",
       "4                   6                2                      2   \n",
       "5                   8                7                      7   \n",
       "6                  12                1                      0   \n",
       "7                   1                1                      0   \n",
       "8                  10                9                      7   \n",
       "9                  17                7                      7   \n",
       "\n",
       "  Years Since Last Promotion  Years With Curr Manager  \\\n",
       "0                          0                        5   \n",
       "1                          1                        7   \n",
       "2                          0                        0   \n",
       "3                          3                        0   \n",
       "4                          2                        2   \n",
       "5                          3                        6   \n",
       "6                          0                        0   \n",
       "7                          0                        0   \n",
       "8                          1                        8   \n",
       "9                          7                        7   \n",
       "\n",
       "  Environment Satisfaction  Training Times Last Year  Work Life Balance  \\\n",
       "0                   Medium                         0                Bad   \n",
       "1                     High                         3             Better   \n",
       "2                Very High                         3             Better   \n",
       "3                Very High                         3             Better   \n",
       "4                      Low                         3             Better   \n",
       "5                Very High                         2               Good   \n",
       "6                     High                         3               Good   \n",
       "7                Very High                         2             Better   \n",
       "8                Very High                         2             Better   \n",
       "9                     High                         3               Good   \n",
       "\n",
       "   Performance Rating  Relationship Satisfaction  \n",
       "0           Excellent                        Low  \n",
       "1         Outstanding                  Very High  \n",
       "2           Excellent                     Medium  \n",
       "3           Excellent                       High  \n",
       "4           Excellent                  Very High  \n",
       "5           Excellent                       High  \n",
       "6         Outstanding                        Low  \n",
       "7         Outstanding                     Medium  \n",
       "8         Outstanding                     Medium  \n",
       "9           Excellent                     Medium  \n",
       "\n",
       "[10 rows x 35 columns]"
      ]
     },
     "execution_count": 6,
     "metadata": {},
     "output_type": "execute_result"
    }
   ],
   "source": [
    "in_data[:10]"
   ]
  },
  {
   "cell_type": "code",
   "execution_count": 66,
   "metadata": {},
   "outputs": [
    {
     "data": {
      "text/plain": [
       "['Department',\n",
       " 'Job Role',\n",
       " 'Gender',\n",
       " 'Age',\n",
       " 'Marital Status',\n",
       " 'Education',\n",
       " 'Business Travel',\n",
       " 'Distance From Home (kms)',\n",
       " 'Job Involvement',\n",
       " 'Job Level',\n",
       " 'Job Satisfaction',\n",
       " 'Monthly Income (USD)',\n",
       " 'Salary Hike (%)',\n",
       " 'Over Time',\n",
       " 'No. of Companies Worked',\n",
       " 'Total Working Years',\n",
       " 'Years At Company',\n",
       " 'Years In Current Role',\n",
       " 'Years Since Last Promotion',\n",
       " 'Years With Curr Manager',\n",
       " 'Environment Satisfaction',\n",
       " 'Training Times Last Year',\n",
       " 'Work Life Balance',\n",
       " 'Performance Rating']"
      ]
     },
     "execution_count": 66,
     "metadata": {},
     "output_type": "execute_result"
    }
   ],
   "source": [
    "columns=in_data.columns.values.tolist()\n",
    "columns"
   ]
  },
  {
   "cell_type": "code",
   "execution_count": 69,
   "metadata": {},
   "outputs": [],
   "source": [
    "for i in range(len(y)):\n",
    "    if(in_data['Monthly Income (USD)'][i]<=5000):\n",
    "        in_data['Monthly Income (USD)'][i]=1\n",
    "    elif(in_data['Monthly Income (USD)'][i]>5000 and in_data['Monthly Income (USD)'][i]<=10000):\n",
    "        in_data['Monthly Income (USD)'][i]=2\n",
    "    elif(in_data['Monthly Income (USD)'][i]>10000 and in_data['Monthly Income (USD)'][i]<=15000):\n",
    "        in_data['Monthly Income (USD)'][i]=3\n",
    "    else:\n",
    "        in_data['Monthly Income (USD)'][i]=4"
   ]
  },
  {
   "cell_type": "code",
   "execution_count": 70,
   "metadata": {},
   "outputs": [
    {
     "data": {
      "text/plain": [
       "1    1337\n",
       "4     133\n",
       "Name: Monthly Income (USD), dtype: int64"
      ]
     },
     "execution_count": 70,
     "metadata": {},
     "output_type": "execute_result"
    }
   ],
   "source": [
    "in_data['Monthly Income (USD)'].value_counts()"
   ]
  },
  {
   "cell_type": "code",
   "execution_count": 20,
   "metadata": {},
   "outputs": [
    {
     "data": {
      "text/plain": [
       "0    Yes\n",
       "1     No\n",
       "2    Yes\n",
       "3     No\n",
       "4     No\n",
       "5     No\n",
       "6     No\n",
       "7     No\n",
       "8     No\n",
       "9     No\n",
       "Name: Attrition (Yes/No), dtype: object"
      ]
     },
     "execution_count": 20,
     "metadata": {},
     "output_type": "execute_result"
    }
   ],
   "source": [
    "y=in_data['Attrition (Yes/No)']\n",
    "y[:10]"
   ]
  },
  {
   "cell_type": "code",
   "execution_count": 23,
   "metadata": {},
   "outputs": [],
   "source": [
    "target=[]\n",
    "for i in range(len(y)):\n",
    "    if(y[i]=='Yes'):\n",
    "        y[i]=1\n",
    "    else:\n",
    "        y[i]=0"
   ]
  },
  {
   "cell_type": "code",
   "execution_count": 43,
   "metadata": {},
   "outputs": [],
   "source": [
    "for i in range(len(y)):\n",
    "    if(in_data['Salary Hike (%)'][i]<=15):\n",
    "        in_data['Salary Hike (%)'][i]=1\n",
    "    elif(in_data['Salary Hike (%)'][i]>15 and in_data['Salary Hike (%)'][i]<=20):\n",
    "        in_data['Salary Hike (%)'][i]=2\n",
    "    else:\n",
    "        in_data['Salary Hike (%)'][i]=3"
   ]
  },
  {
   "cell_type": "code",
   "execution_count": 167,
   "metadata": {},
   "outputs": [],
   "source": [
    "for i in range(len(y)):\n",
    "    if(in_data['Years With Curr Manager'][i]<=5):\n",
    "        in_data['Years With Curr Manager'][i]=1\n",
    "    elif(in_data['Years With Curr Manager'][i]>5 and in_data['Years With Curr Manager'][i]<=10):\n",
    "        in_data['Years With Curr Manager'][i]=2\n",
    "    else:\n",
    "        in_data['Years With Curr Manager'][i]=3"
   ]
  },
  {
   "cell_type": "code",
   "execution_count": 45,
   "metadata": {},
   "outputs": [],
   "source": [
    "#Total Working Years\n",
    "for i in range(len(y)):\n",
    "    if(in_data['Total Working Years'][i]<=10):\n",
    "        in_data['Total Working Years'][i]=1\n",
    "    elif(in_data['Total Working Years'][i]>10 and in_data['Total Working Years'][i]<=20):\n",
    "        in_data['Total Working Years'][i]=2\n",
    "    elif(in_data['Total Working Years'][i]>20 and in_data['Total Working Years'][i]<=30):\n",
    "        in_data['Total Working Years'][i]=3\n",
    "    else:\n",
    "        in_data['Total Working Years'][i]=4"
   ]
  },
  {
   "cell_type": "code",
   "execution_count": 149,
   "metadata": {},
   "outputs": [],
   "source": [
    "# Years At Company\n",
    "for i in range(len(y)):\n",
    "    if(in_data['Years At Company'][i]<=10):\n",
    "        in_data['Years At Company'][i]=1\n",
    "    elif(in_data['Years At Company'][i]>10 and in_data['Years At Company'][i]<=20):\n",
    "        in_data['Years At Company'][i]=2\n",
    "    elif(in_data['Years At Company'][i]>20 and in_data['Years At Company'][i]<=30):\n",
    "        in_data['Years At Company'][i]=3\n",
    "    else:\n",
    "        in_data['Years At Company'][i]=4"
   ]
  },
  {
   "cell_type": "code",
   "execution_count": 46,
   "metadata": {},
   "outputs": [],
   "source": [
    "for i in range(len(y)):\n",
    "    if(in_data['Years In Current Role'][i]<=5):\n",
    "        in_data['Years In Current Role'][i]=1\n",
    "    elif(in_data['Years In Current Role'][i]>5 and in_data['Years In Current Role'][i]<=10):\n",
    "        in_data['Years In Current Role'][i]=2\n",
    "    elif(in_data['Years In Current Role'][i]>10 and in_data['Years In Current Role'][i]<=15):\n",
    "        in_data['Years In Current Role'][i]=3\n",
    "    else:\n",
    "        in_data['Years In Current Role'][i]=4"
   ]
  },
  {
   "cell_type": "code",
   "execution_count": 44,
   "metadata": {},
   "outputs": [],
   "source": [
    "for i in range(len(y)):\n",
    "    if(in_data['No. of Companies Worked'][i]<=5):\n",
    "        in_data['No. of Companies Worked'][i]=1\n",
    "    else:\n",
    "        in_data['No. of Companies Worked'][i]=2"
   ]
  },
  {
   "cell_type": "code",
   "execution_count": 47,
   "metadata": {},
   "outputs": [],
   "source": [
    "for i in range(len(y)):\n",
    "    if(in_data['Years Since Last Promotion'][i]<=5):\n",
    "        in_data['Years Since Last Promotion'][i]=1\n",
    "    elif(in_data['Years Since Last Promotion'][i]>5 and in_data['Years Since Last Promotion'][i]<=10):\n",
    "        in_data['Years Since Last Promotion'][i]=2\n",
    "    else:\n",
    "        in_data['Years Since Last Promotion'][i]=3"
   ]
  },
  {
   "cell_type": "code",
   "execution_count": 41,
   "metadata": {},
   "outputs": [
    {
     "name": "stdout",
     "output_type": "stream",
     "text": [
      "(1470, 28)\n"
     ]
    }
   ],
   "source": [
    "in_data=in_data.drop(['Hourly Rate (USD)','Daily Rate (USD)','Monthly Rate (USD)','Standard Hours','Employee ID','Employee Count'],axis=1)\n",
    "print(in_data.shape)"
   ]
  },
  {
   "cell_type": "code",
   "execution_count": 52,
   "metadata": {},
   "outputs": [
    {
     "name": "stdout",
     "output_type": "stream",
     "text": [
      "(1470, 25)\n"
     ]
    }
   ],
   "source": [
    "in_data=in_data.drop(['Attrition (Yes/No)','Stock Option Level','Relationship Satisfaction'],axis=1)\n",
    "print(in_data.shape)"
   ]
  },
  {
   "cell_type": "code",
   "execution_count": 56,
   "metadata": {},
   "outputs": [
    {
     "name": "stdout",
     "output_type": "stream",
     "text": [
      "(1470, 24)\n"
     ]
    }
   ],
   "source": [
    "in_data=in_data.drop(['Education Field'],axis=1)\n",
    "print(in_data.shape)"
   ]
  },
  {
   "cell_type": "code",
   "execution_count": 168,
   "metadata": {},
   "outputs": [],
   "source": [
    "from sklearn.preprocessing import OneHotEncoder\n",
    "\n",
    "model=OneHotEncoder(handle_unknown='ignore')\n",
    "fin_data=model.fit_transform(in_data)\n",
    "ext_feat=model.get_feature_names()"
   ]
  },
  {
   "cell_type": "code",
   "execution_count": 169,
   "metadata": {},
   "outputs": [
    {
     "data": {
      "text/plain": [
       "array(['x0_Human Resources', 'x0_Research & Development', 'x0_Sales',\n",
       "       'x1_Healthcare Representative', 'x1_Human Resources',\n",
       "       'x1_Laboratory Technician', 'x1_Manager',\n",
       "       'x1_Manufacturing Director', 'x1_Research Director',\n",
       "       'x1_Research Scientist', 'x1_Sales Executive',\n",
       "       'x1_Sales Representative', 'x2_Female', 'x2_Male', 'x3_1', 'x3_2',\n",
       "       'x3_3', 'x3_4', 'x4_Divorced', 'x4_Married', 'x4_Single',\n",
       "       'x5_Bachelor', 'x5_Below College', 'x5_College', 'x5_Doctor',\n",
       "       'x5_Master', 'x6_Non-Travel', 'x6_Travel_Frequently',\n",
       "       'x6_Travel_Rarely', 'x7_1', 'x7_2', 'x7_3', 'x7_4', 'x8_High',\n",
       "       'x8_Low', 'x8_Medium', 'x8_Very High', 'x9_1', 'x9_2', 'x9_3',\n",
       "       'x9_4', 'x9_5', 'x10_High', 'x10_Low', 'x10_Medium',\n",
       "       'x10_Very High', 'x11_1', 'x11_4', 'x12_1', 'x12_2', 'x12_3',\n",
       "       'x13_No', 'x13_Yes', 'x14_1', 'x14_2', 'x15_1', 'x15_2', 'x15_3',\n",
       "       'x15_4', 'x16_1', 'x16_2', 'x16_3', 'x16_4', 'x17_1', 'x17_2',\n",
       "       'x17_3', 'x17_4', 'x18_1', 'x18_2', 'x18_3', 'x19_1', 'x19_2',\n",
       "       'x19_3', 'x20_High', 'x20_Low', 'x20_Medium', 'x20_Very High',\n",
       "       'x21_0', 'x21_1', 'x21_2', 'x21_3', 'x21_4', 'x21_5', 'x21_6',\n",
       "       'x22_Bad', 'x22_Best', 'x22_Better', 'x22_Good', 'x23_Excellent',\n",
       "       'x23_Outstanding'], dtype=object)"
      ]
     },
     "execution_count": 169,
     "metadata": {},
     "output_type": "execute_result"
    }
   ],
   "source": [
    "ext_feat"
   ]
  },
  {
   "cell_type": "code",
   "execution_count": 170,
   "metadata": {},
   "outputs": [
    {
     "data": {
      "text/plain": [
       "<1x10 sparse matrix of type '<class 'numpy.float64'>'\n",
       "\twith 1 stored elements in Compressed Sparse Row format>"
      ]
     },
     "execution_count": 170,
     "metadata": {},
     "output_type": "execute_result"
    }
   ],
   "source": [
    "type(fin_data)\n",
    "fin_data[0,:10]"
   ]
  },
  {
   "cell_type": "code",
   "execution_count": 171,
   "metadata": {},
   "outputs": [
    {
     "name": "stdout",
     "output_type": "stream",
     "text": [
      "(1470, 90)\n"
     ]
    }
   ],
   "source": [
    "from sklearn.preprocessing import MaxAbsScaler\n",
    "pre_mod=MaxAbsScaler().fit(fin_data)\n",
    "std_train=pre_mod.transform(fin_data)\n",
    "print(std_train.shape)"
   ]
  },
  {
   "cell_type": "code",
   "execution_count": 172,
   "metadata": {},
   "outputs": [],
   "source": [
    "y=y.astype('int')"
   ]
  },
  {
   "cell_type": "code",
   "execution_count": 208,
   "metadata": {},
   "outputs": [],
   "source": [
    "from sklearn.linear_model import LogisticRegression\n",
    "from sklearn.feature_selection import RFE\n",
    "\n",
    "lr=LogisticRegression(random_state=42,n_jobs=-1,class_weight='balanced')\n",
    "selector=RFE(estimator=lr,n_features_to_select=15)\n",
    "final=selector.fit_transform(std_train,y)"
   ]
  },
  {
   "cell_type": "code",
   "execution_count": 209,
   "metadata": {},
   "outputs": [
    {
     "data": {
      "text/plain": [
       "<1470x15 sparse matrix of type '<class 'numpy.float64'>'\n",
       "\twith 3182 stored elements in Compressed Sparse Row format>"
      ]
     },
     "execution_count": 209,
     "metadata": {},
     "output_type": "execute_result"
    }
   ],
   "source": [
    "ranks=selector.ranking_\n",
    "top_ranks_ind=ranks.argsort()[::-1][:16]\n",
    "final\n",
    "#top_ranks_ind"
   ]
  },
  {
   "cell_type": "code",
   "execution_count": 183,
   "metadata": {},
   "outputs": [],
   "source": [
    "final_train=fin_data[:1200]\n",
    "final_test=fin_data[1200:]\n",
    "y_train=y[:1200]\n",
    "y_test=y[1200:]"
   ]
  },
  {
   "cell_type": "code",
   "execution_count": 184,
   "metadata": {},
   "outputs": [
    {
     "data": {
      "text/plain": [
       "<1200x90 sparse matrix of type '<class 'numpy.float64'>'\n",
       "\twith 28800 stored elements in Compressed Sparse Row format>"
      ]
     },
     "execution_count": 184,
     "metadata": {},
     "output_type": "execute_result"
    }
   ],
   "source": [
    "final_train"
   ]
  },
  {
   "cell_type": "code",
   "execution_count": 185,
   "metadata": {},
   "outputs": [
    {
     "name": "stdout",
     "output_type": "stream",
     "text": [
      "Fitting 5 folds for each of 16 candidates, totalling 80 fits\n"
     ]
    },
    {
     "name": "stderr",
     "output_type": "stream",
     "text": [
      "[Parallel(n_jobs=1)]: Using backend SequentialBackend with 1 concurrent workers.\n",
      "[Parallel(n_jobs=1)]: Done  80 out of  80 | elapsed:    9.2s finished\n"
     ]
    },
    {
     "data": {
      "text/plain": [
       "GridSearchCV(cv=<generator object TimeSeriesSplit.split at 0x000000000E957410>,\n",
       "       error_score='raise-deprecating',\n",
       "       estimator=LogisticRegression(C=1.0, class_weight='balanced', dual=False,\n",
       "          fit_intercept=True, intercept_scaling=1, max_iter=100,\n",
       "          multi_class='warn', n_jobs=-1, penalty='l2', random_state=42,\n",
       "          solver='warn', tol=0.0001, verbose=0, warm_start=False),\n",
       "       fit_params=None, iid='warn', n_jobs=None,\n",
       "       param_grid={'C': [0.0001, 0.001, 0.01, 0.1, 1.0, 10.0, 100.0, 1000.0], 'penalty': ['l1', 'l2']},\n",
       "       pre_dispatch='2*n_jobs', refit=True, return_train_score='warn',\n",
       "       scoring=make_scorer(f1_score, average=weighted), verbose=1)"
      ]
     },
     "execution_count": 185,
     "metadata": {},
     "output_type": "execute_result"
    }
   ],
   "source": [
    "from sklearn.linear_model import LogisticRegression\n",
    "from prettytable import PrettyTable\n",
    "from sklearn.metrics import recall_score\n",
    "from sklearn.metrics import precision_score\n",
    "from sklearn.metrics import f1_score\n",
    "from sklearn.metrics import roc_curve\n",
    "from sklearn.naive_bayes import BernoulliNB\n",
    "from sklearn.model_selection import GridSearchCV,TimeSeriesSplit\n",
    "from sklearn.metrics import make_scorer, accuracy_score,average_precision_score,roc_auc_score\n",
    "\n",
    "lr=LogisticRegression(random_state=42,n_jobs=-1,class_weight='balanced')\n",
    "parameter={'C':[0.0001,0.001,0.01,0.1,1.0,10.0,100.0,1000.0],'penalty':['l1','l2']}\n",
    "tss=TimeSeriesSplit(n_splits=5).split(final_train)\n",
    "score=make_scorer(f1_score,average='weighted')\n",
    "\n",
    "gscv=GridSearchCV(estimator=lr,scoring=score,cv=tss,param_grid=parameter,verbose=1)\n",
    "gscv.fit(final_train,y_train)"
   ]
  },
  {
   "cell_type": "code",
   "execution_count": 186,
   "metadata": {},
   "outputs": [
    {
     "name": "stdout",
     "output_type": "stream",
     "text": [
      "Best Parameteres are as follows :  {'C': 0.1, 'penalty': 'l2'}\n",
      "Best Accuracy : 78.73%\n",
      "(16,)\n"
     ]
    }
   ],
   "source": [
    "print(\"Best Parameteres are as follows : \",gscv.best_params_)\n",
    "print(\"Best Accuracy : %.2f%%\"%(gscv.best_score_*100))\n",
    "print(gscv.cv_results_['mean_test_score'].shape)"
   ]
  },
  {
   "cell_type": "code",
   "execution_count": 227,
   "metadata": {},
   "outputs": [],
   "source": [
    "best_lr=LogisticRegression(C=0.1,penalty='l2',random_state=42,n_jobs=-1,class_weight='balanced')\n",
    "best_lr.fit(final_train,y_train)\n",
    "#test_bow=preprocessing.normalize(bow_test,norm='l1')\n",
    "y_pred=best_lr.predict(final_test)\n",
    "y_pred_train=best_lr.predict(final_train)\n"
   ]
  },
  {
   "cell_type": "code",
   "execution_count": 228,
   "metadata": {},
   "outputs": [
    {
     "data": {
      "image/png": "[encoded data removed]",
      "text/plain": [
       "<Figure size 432x288 with 2 Axes>"
      ]
     },
     "metadata": {},
     "output_type": "display_data"
    }
   ],
   "source": [
    "import seaborn as sn\n",
    "y1=gscv.cv_results_['mean_test_score'][:8]\n",
    "y2=gscv.cv_results_['mean_test_score'][8:]\n",
    "y1=1-y1\n",
    "y2=1-y2\n",
    "heatmap = sn.heatmap([y1,y2], linewidths=1,# cmap=color,\n",
    "                 xticklabels=[0.0001,0.001,0.01,0.1,1.0,10.0,100.0,1000.0], yticklabels=['L1','L2'],annot=True).set_title(\"Misclassification Error\")\n",
    "plt.xlabel(\"C\\n\")\n",
    "plt.ylabel(\"Regularizer\\n\")\n",
    "plt.show()"
   ]
  },
  {
   "cell_type": "code",
   "execution_count": 229,
   "metadata": {},
   "outputs": [
    {
     "data": {
      "image/png": "[encoded data removed]",
      "text/plain": [
       "<Figure size 432x288 with 2 Axes>"
      ]
     },
     "metadata": {},
     "output_type": "display_data"
    }
   ],
   "source": [
    "Conf_matrix=confusion_matrix(y_test, y_pred)\n",
    "from matplotlib import *\n",
    "import seaborn as sn\n",
    "#color=sns.color_palette(\"Blues\",6)\n",
    "class_names=['Negative','Positive']\n",
    "heatmap = sn.heatmap(Conf_matrix, linewidths=1,# cmap=color,\n",
    "                 xticklabels=class_names, yticklabels=class_names,annot=True, fmt=\"d\",).set_title(\"Confusion Matrix\")\n",
    "plt.xlabel(\"Predicted label\\n\")\n",
    "plt.ylabel(\"True label\\n\")\n",
    "plt.show()"
   ]
  },
  {
   "cell_type": "code",
   "execution_count": 237,
   "metadata": {},
   "outputs": [
    {
     "data": {
      "text/plain": [
       "array([0.72313474, 0.27686526])"
      ]
     },
     "execution_count": 237,
     "metadata": {},
     "output_type": "execute_result"
    }
   ],
   "source": [
    "y_pred_prob[0]"
   ]
  },
  {
   "cell_type": "code",
   "execution_count": 239,
   "metadata": {},
   "outputs": [
    {
     "name": "stdout",
     "output_type": "stream",
     "text": [
      "(270, 2)\n",
      "270\n"
     ]
    },
    {
     "data": {
      "image/png": "[encoded data removed]",
      "text/plain": [
       "<Figure size 432x288 with 1 Axes>"
      ]
     },
     "metadata": {},
     "output_type": "display_data"
    }
   ],
   "source": [
    "from sklearn.metrics import roc_curve, auc\n",
    "y_pred_prob=best_lr.predict_proba(final_test)\n",
    "y_pred_train_prob=best_lr.predict_proba(final_train)\n",
    "print(y_pred_prob.shape)\n",
    "print(len(y_test))\n",
    "fpr, tpr, thresholds = roc_curve(y_test, y_pred_prob[:,1])\n",
    "roc_auc = auc(fpr, tpr)\n",
    "\n",
    "t_fpr, t_tpr, t_thresholds = roc_curve(y_train, y_pred_train_prob[:,1])\n",
    "t_roc_auc = auc(t_fpr, t_tpr)\n",
    "\n",
    "plt.figure()\n",
    "plt.plot(fpr, tpr, color='darkorange', lw=1, label='test_ROC curve (area = %0.2f)' % roc_auc)\n",
    "plt.plot(t_fpr, t_tpr, color='darkgreen', lw=1, label='train_ROC curve (area = %0.2f)' % t_roc_auc)\n",
    "plt.plot([0, 1], [0, 1], color='navy', lw=1, linestyle='--')\n",
    "plt.xlim([0.0, 1.0])\n",
    "plt.ylim([0.0, 1.05])\n",
    "plt.xlabel('False Positive Rate')\n",
    "plt.ylabel('True Positive Rate')\n",
    "plt.title('Receiver operating characteristic')\n",
    "plt.legend(loc=\"lower right\")\n",
    "plt.show()"
   ]
  },
  {
   "cell_type": "code",
   "execution_count": 217,
   "metadata": {},
   "outputs": [
    {
     "data": {
      "text/plain": [
       "array([51, 38, 18, 36, 67, 26, 40, 72, 86, 45,  8, 76, 16,  6, 29,  1],\n",
       "      dtype=int64)"
      ]
     },
     "execution_count": 217,
     "metadata": {},
     "output_type": "execute_result"
    }
   ],
   "source": [
    "coeffecients=best_lr.coef_\n",
    "ranks=coeffecients.argsort()[::-1][0,:16]\n",
    "ranks"
   ]
  },
  {
   "cell_type": "code",
   "execution_count": 240,
   "metadata": {},
   "outputs": [
    {
     "data": {
      "text/plain": [
       "array(['x13_No', 'x9_2', 'x4_Divorced', 'x8_Very High', 'x18_1',\n",
       "       'x6_Non-Travel', 'x9_4', 'x19_3', 'x22_Better', 'x10_Very High',\n",
       "       'x1_Research Director', 'x20_Very High', 'x3_3', 'x1_Manager',\n",
       "       'x7_1', 'x0_Research & Development'], dtype=object)"
      ]
     },
     "execution_count": 240,
     "metadata": {},
     "output_type": "execute_result"
    }
   ],
   "source": [
    "col=ext_feat[ranks]\n",
    "col"
   ]
  },
  {
   "cell_type": "code",
   "execution_count": 244,
   "metadata": {},
   "outputs": [
    {
     "data": {
      "text/plain": [
       "['Over Time',\n",
       " 'Job Level',\n",
       " 'Marital Status',\n",
       " 'Job Involvement',\n",
       " 'Years Since Last Promotion',\n",
       " 'Business Travel',\n",
       " 'Job Level',\n",
       " 'Years With Curr Manager',\n",
       " 'Work Life Balance',\n",
       " 'Job Satisfaction',\n",
       " 'Job Role',\n",
       " 'Environment Satisfaction',\n",
       " 'Age',\n",
       " 'Job Role',\n",
       " 'Distance From Home (kms)',\n",
       " 'Department']"
      ]
     },
     "execution_count": 244,
     "metadata": {},
     "output_type": "execute_result"
    }
   ],
   "source": [
    "imp=[13,9,4,8,18,6,9,19,22,10,1,20,3,1,7,0]\n",
    "name=[]\n",
    "for i in imp:\n",
    "    name.append(columns[i])\n",
    "name"
   ]
  },
  {
   "cell_type": "code",
   "execution_count": 248,
   "metadata": {},
   "outputs": [
    {
     "data": {
      "text/plain": [
       "['Over Time=No',\n",
       " 'Job Level=2',\n",
       " 'Marital Status=Divorce',\n",
       " 'Job Involvement=Very_High',\n",
       " 'Years Since Last Promotion=<5',\n",
       " 'Business Travel=Non_travel',\n",
       " 'Job Level=4',\n",
       " 'Years With Curr Manager=11_to_15',\n",
       " 'Work Life Balance=Better',\n",
       " 'Job Satisfaction=Very_high',\n",
       " 'Job Role=Research Director',\n",
       " 'Environment Satisfaction=Very_high',\n",
       " 'Age=41_to_50',\n",
       " 'Job Role=manager',\n",
       " 'Distance From Home (kms)=<10km',\n",
       " 'Department=Research & Development']"
      ]
     },
     "execution_count": 248,
     "metadata": {},
     "output_type": "execute_result"
    }
   ],
   "source": [
    "suffix=['No','2','Divorce','Very_High','<5','Non_travel','4','11_to_15','Better','Very_high','Research Director','Very_high','41_to_50','manager','<10km','Research & Development']\n",
    "feat=[]\n",
    "for i in range(len(suffix)):\n",
    "    feat.append(name[i]+'='+suffix[i])\n",
    "feat\n"
   ]
  },
  {
   "cell_type": "code",
   "execution_count": 249,
   "metadata": {},
   "outputs": [],
   "source": [
    "coef=[]\n",
    "for j in ranks:\n",
    "    coef.append(coeffecients[0,j])"
   ]
  },
  {
   "cell_type": "code",
   "execution_count": 250,
   "metadata": {},
   "outputs": [
    {
     "data": {
      "text/plain": [
       "-0.6731299504257658"
      ]
     },
     "execution_count": 250,
     "metadata": {},
     "output_type": "execute_result"
    }
   ],
   "source": [
    "coeffecients[0,51]"
   ]
  },
  {
   "cell_type": "code",
   "execution_count": 251,
   "metadata": {},
   "outputs": [],
   "source": [
    "coeff_df = pd.DataFrame({'Feature' : feat, 'Coefficient' : coef})"
   ]
  },
  {
   "cell_type": "code",
   "execution_count": 252,
   "metadata": {},
   "outputs": [
    {
     "data": {
      "text/html": [
       "<div>\n",
       "<style scoped>\n",
       "    .dataframe tbody tr th:only-of-type {\n",
       "        vertical-align: middle;\n",
       "    }\n",
       "\n",
       "    .dataframe tbody tr th {\n",
       "        vertical-align: top;\n",
       "    }\n",
       "\n",
       "    .dataframe thead th {\n",
       "        text-align: right;\n",
       "    }\n",
       "</style>\n",
       "<table border=\"1\" class=\"dataframe\">\n",
       "  <thead>\n",
       "    <tr style=\"text-align: right;\">\n",
       "      <th></th>\n",
       "      <th>Feature</th>\n",
       "      <th>Coefficient</th>\n",
       "    </tr>\n",
       "  </thead>\n",
       "  <tbody>\n",
       "    <tr>\n",
       "      <th>0</th>\n",
       "      <td>Over Time=No</td>\n",
       "      <td>-0.673130</td>\n",
       "    </tr>\n",
       "    <tr>\n",
       "      <th>1</th>\n",
       "      <td>Job Level=2</td>\n",
       "      <td>-0.558898</td>\n",
       "    </tr>\n",
       "    <tr>\n",
       "      <th>2</th>\n",
       "      <td>Marital Status=Divorce</td>\n",
       "      <td>-0.520810</td>\n",
       "    </tr>\n",
       "    <tr>\n",
       "      <th>3</th>\n",
       "      <td>Job Involvement=Very_High</td>\n",
       "      <td>-0.492848</td>\n",
       "    </tr>\n",
       "    <tr>\n",
       "      <th>4</th>\n",
       "      <td>Years Since Last Promotion=&lt;5</td>\n",
       "      <td>-0.464164</td>\n",
       "    </tr>\n",
       "    <tr>\n",
       "      <th>5</th>\n",
       "      <td>Business Travel=Non_travel</td>\n",
       "      <td>-0.450872</td>\n",
       "    </tr>\n",
       "    <tr>\n",
       "      <th>6</th>\n",
       "      <td>Job Level=4</td>\n",
       "      <td>-0.437384</td>\n",
       "    </tr>\n",
       "    <tr>\n",
       "      <th>7</th>\n",
       "      <td>Years With Curr Manager=11_to_15</td>\n",
       "      <td>-0.429537</td>\n",
       "    </tr>\n",
       "    <tr>\n",
       "      <th>8</th>\n",
       "      <td>Work Life Balance=Better</td>\n",
       "      <td>-0.426603</td>\n",
       "    </tr>\n",
       "    <tr>\n",
       "      <th>9</th>\n",
       "      <td>Job Satisfaction=Very_high</td>\n",
       "      <td>-0.426317</td>\n",
       "    </tr>\n",
       "    <tr>\n",
       "      <th>10</th>\n",
       "      <td>Job Role=Research Director</td>\n",
       "      <td>-0.400054</td>\n",
       "    </tr>\n",
       "    <tr>\n",
       "      <th>11</th>\n",
       "      <td>Environment Satisfaction=Very_high</td>\n",
       "      <td>-0.367340</td>\n",
       "    </tr>\n",
       "    <tr>\n",
       "      <th>12</th>\n",
       "      <td>Age=41_to_50</td>\n",
       "      <td>-0.303757</td>\n",
       "    </tr>\n",
       "    <tr>\n",
       "      <th>13</th>\n",
       "      <td>Job Role=manager</td>\n",
       "      <td>-0.295040</td>\n",
       "    </tr>\n",
       "    <tr>\n",
       "      <th>14</th>\n",
       "      <td>Distance From Home (kms)=&lt;10km</td>\n",
       "      <td>-0.292950</td>\n",
       "    </tr>\n",
       "    <tr>\n",
       "      <th>15</th>\n",
       "      <td>Department=Research &amp; Development</td>\n",
       "      <td>-0.264282</td>\n",
       "    </tr>\n",
       "  </tbody>\n",
       "</table>\n",
       "</div>"
      ],
      "text/plain": [
       "                               Feature  Coefficient\n",
       "0                         Over Time=No    -0.673130\n",
       "1                          Job Level=2    -0.558898\n",
       "2               Marital Status=Divorce    -0.520810\n",
       "3            Job Involvement=Very_High    -0.492848\n",
       "4        Years Since Last Promotion=<5    -0.464164\n",
       "5           Business Travel=Non_travel    -0.450872\n",
       "6                          Job Level=4    -0.437384\n",
       "7     Years With Curr Manager=11_to_15    -0.429537\n",
       "8             Work Life Balance=Better    -0.426603\n",
       "9           Job Satisfaction=Very_high    -0.426317\n",
       "10          Job Role=Research Director    -0.400054\n",
       "11  Environment Satisfaction=Very_high    -0.367340\n",
       "12                        Age=41_to_50    -0.303757\n",
       "13                    Job Role=manager    -0.295040\n",
       "14      Distance From Home (kms)=<10km    -0.292950\n",
       "15   Department=Research & Development    -0.264282"
      ]
     },
     "execution_count": 252,
     "metadata": {},
     "output_type": "execute_result"
    }
   ],
   "source": [
    "coeff_df"
   ]
  },
  {
   "cell_type": "code",
   "execution_count": null,
   "metadata": {},
   "outputs": [],
   "source": []
  }
 ],
 "metadata": {
  "kernelspec": {
   "display_name": "Python 3",
   "language": "python",
   "name": "python3"
  },
  "language_info": {
   "codemirror_mode": {
    "name": "ipython",
    "version": 3
   },
   "file_extension": ".py",
   "mimetype": "text/x-python",
   "name": "python",
   "nbconvert_exporter": "python",
   "pygments_lexer": "ipython3",
   "version": "3.6.5"
  }
 },
 "nbformat": 4,
 "nbformat_minor": 2
}
